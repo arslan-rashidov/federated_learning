{
 "cells": [
  {
   "cell_type": "code",
   "execution_count": 210,
   "id": "e8017c36",
   "metadata": {},
   "outputs": [],
   "source": [
    "from client.dataset import get_train_test_datasets\n",
    "from client.net import Net\n",
    "\n",
    "import torch\n",
    "from torch.optim import AdamW\n",
    "\n",
    "from sklearn.metrics import roc_auc_score"
   ]
  },
  {
   "cell_type": "markdown",
   "id": "8fbadcdc",
   "metadata": {},
   "source": [
    "# Dataset"
   ]
  },
  {
   "cell_type": "code",
   "execution_count": 310,
   "id": "ef2f777a",
   "metadata": {},
   "outputs": [],
   "source": [
    "dataset_path = 'client/anti_fraud_dataset/client_2/client_anti_fraud_dataset.csv'"
   ]
  },
  {
   "cell_type": "code",
   "execution_count": 311,
   "id": "85226b80",
   "metadata": {},
   "outputs": [],
   "source": [
    "train_set, test_set = get_train_test_datasets(dataset_path)"
   ]
  },
  {
   "cell_type": "code",
   "execution_count": 312,
   "id": "9a51063e",
   "metadata": {},
   "outputs": [],
   "source": [
    "batch_size = 16"
   ]
  },
  {
   "cell_type": "code",
   "execution_count": 313,
   "id": "fdf2c12d",
   "metadata": {},
   "outputs": [],
   "source": [
    "train_dataloader = torch.utils.data.DataLoader(train_set, batch_size=batch_size, shuffle=True)\n",
    "test_dataloader = torch.utils.data.DataLoader(test_set, batch_size=batch_size)"
   ]
  },
  {
   "cell_type": "markdown",
   "id": "8047d410",
   "metadata": {},
   "source": [
    "# Model Training"
   ]
  },
  {
   "cell_type": "code",
   "execution_count": 315,
   "id": "856045d0",
   "metadata": {},
   "outputs": [],
   "source": [
    "model = Net(n_features=train_set[0]['transaction'].shape[0])\n",
    "optimizer = AdamW(params=model.parameters(), lr=0.0001)\n",
    "loss_fn = torch.nn.BCELoss()"
   ]
  },
  {
   "cell_type": "code",
   "execution_count": 316,
   "id": "21510906",
   "metadata": {},
   "outputs": [],
   "source": [
    "epochs = 15"
   ]
  },
  {
   "cell_type": "code",
   "execution_count": 318,
   "id": "787c4ccf",
   "metadata": {
    "scrolled": false
   },
   "outputs": [
    {
     "name": "stdout",
     "output_type": "stream",
     "text": [
      "0.9550151975683892\n",
      "1. Train loss - 0.5729241016365233, test loss - 0.5583413441975912\n",
      "0.9562310030395137\n",
      "2. Train loss - 0.44225669900576275, test loss - 0.39403529465198517\n",
      "0.9592705167173252\n",
      "3. Train loss - 0.3522117797817503, test loss - 0.3245007743438085\n",
      "0.9610942249240121\n",
      "4. Train loss - 0.3366995134523937, test loss - 0.2868928238749504\n",
      "0.9617021276595744\n",
      "5. Train loss - 0.3156351276806423, test loss - 0.267974612613519\n",
      "0.9617021276595744\n",
      "6. Train loss - 0.3025435053166889, test loss - 0.2595323200027148\n",
      "0.9623100303951369\n",
      "7. Train loss - 0.27698197393190294, test loss - 0.24961544076601663\n",
      "0.9610942249240121\n",
      "8. Train loss - 0.2579490230196998, test loss - 0.23085092504819235\n",
      "0.9617021276595744\n",
      "9. Train loss - 0.2414939829281398, test loss - 0.22434659178058305\n",
      "0.9617021276595744\n",
      "10. Train loss - 0.2410434546569983, test loss - 0.21819024781386057\n",
      "0.9629179331306992\n",
      "11. Train loss - 0.23216892033815384, test loss - 0.2070761633416017\n",
      "0.9641337386018236\n",
      "12. Train loss - 0.23200522114833197, test loss - 0.20556109895308813\n",
      "0.9647416413373859\n",
      "13. Train loss - 0.2062136046588421, test loss - 0.20199310531218848\n",
      "0.9659574468085107\n",
      "14. Train loss - 0.19318636063308942, test loss - 0.19127536316712698\n",
      "0.9677811550151977\n",
      "15. Train loss - 0.18885671542513938, test loss - 0.18263285607099533\n"
     ]
    }
   ],
   "source": [
    "for epoch in range(epochs):\n",
    "    train_epoch_loss = 0.0\n",
    "    model.train()\n",
    "    \n",
    "    for i, data in enumerate(train_dataloader):\n",
    "        transactions, labels = data['transaction'], data['label']\n",
    "        transactions = transactions.reshape(transactions.shape[0], 1, transactions.shape[1])\n",
    "        \n",
    "        optimizer.zero_grad()\n",
    "        \n",
    "        output = model(transactions)\n",
    "        \n",
    "        loss = loss_fn(output, labels)\n",
    "        loss.backward()\n",
    "        optimizer.step()\n",
    "        \n",
    "        train_epoch_loss += loss.item()\n",
    "    \n",
    "    train_epoch_loss /= len(train_dataloader)\n",
    "    \n",
    "    test_epoch_loss = 0.0\n",
    "    model.eval()\n",
    "    \n",
    "    outputs = np.array([])\n",
    "    labels = np.array([])\n",
    "    \n",
    "    for i, data in enumerate(test_dataloader):\n",
    "        transactions, label = data['transaction'], data['label']\n",
    "        transactions = transactions.reshape(transactions.shape[0], 1, transactions.shape[1])\n",
    "        output = model(transactions)\n",
    "        \n",
    "        loss = loss_fn(output, label)\n",
    "        \n",
    "        test_epoch_loss += loss.item()\n",
    "        outputs = np.hstack([outputs, output.detach().numpy().reshape(-1)])\n",
    "        labels = np.hstack([labels, label.reshape(-1)])\n",
    "    \n",
    "    test_epoch_loss /= len(test_dataloader)\n",
    "    test_roc_auc_score = roc_auc_score(labels, outputs)\n",
    "    print(test_roc_auc_score)\n",
    "    \n",
    "    \n",
    "    print(f\"{epoch + 1}. Train loss - {train_epoch_loss}, test loss - {test_epoch_loss}\")\n",
    "        "
   ]
  },
  {
   "cell_type": "code",
   "execution_count": null,
   "id": "4b7449cf",
   "metadata": {},
   "outputs": [],
   "source": []
  }
 ],
 "metadata": {
  "kernelspec": {
   "display_name": "Python [conda env:federated_learning]",
   "language": "python",
   "name": "conda-env-federated_learning-py"
  },
  "language_info": {
   "codemirror_mode": {
    "name": "ipython",
    "version": 3
   },
   "file_extension": ".py",
   "mimetype": "text/x-python",
   "name": "python",
   "nbconvert_exporter": "python",
   "pygments_lexer": "ipython3",
   "version": "3.10.11"
  }
 },
 "nbformat": 4,
 "nbformat_minor": 5
}
