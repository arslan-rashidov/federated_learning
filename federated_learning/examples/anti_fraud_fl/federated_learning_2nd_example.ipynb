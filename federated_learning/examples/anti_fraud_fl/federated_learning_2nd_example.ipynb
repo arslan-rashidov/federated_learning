{
 "cells": [
  {
   "cell_type": "markdown",
   "id": "dadee72a",
   "metadata": {},
   "source": [
    "Датасет - https://www.kaggle.com/datasets/mlg-ulb/creditcardfraud\n",
    "\n",
    "Задача - классифицировать fraud-транзакции. В качестве основной метрики возьмем AUC - Area under ROC curve. Грубо говоря, AUC отражает качество классификационной модели - чем больше, тем модель лучше.\n",
    "\n",
    "Для сравнения федеративного и обычного подходов обучения модели возьмем трёх клиентов: сначала обучим модели локально на каждом клиенте(без обмена весами), а затем федеративно(с обменом и агрегацией весов). После этого сравним средние значения AUC по всем трем клиентам. "
   ]
  },
  {
   "cell_type": "markdown",
   "id": "e39feac0",
   "metadata": {},
   "source": [
    "# Пример локального обучения"
   ]
  },
  {
   "cell_type": "code",
   "execution_count": 1,
   "id": "7d9862ff",
   "metadata": {},
   "outputs": [],
   "source": [
    "from client.dataset import get_train_test_datasets\n",
    "from client.net import Net\n",
    "\n",
    "import torch\n",
    "from torch.optim import AdamW\n",
    "\n",
    "from sklearn.metrics import roc_auc_score\n",
    "\n",
    "import numpy as np"
   ]
  },
  {
   "cell_type": "code",
   "execution_count": 2,
   "id": "69d7da7a",
   "metadata": {},
   "outputs": [],
   "source": [
    "clients_n = 3\n",
    "batch_size = 16\n",
    "epochs = 15"
   ]
  },
  {
   "cell_type": "code",
   "execution_count": 3,
   "id": "c9b3bf6f",
   "metadata": {},
   "outputs": [],
   "source": [
    "init_parameters = {}\n",
    "single_train_roc_auc_scores = np.array([])"
   ]
  },
  {
   "cell_type": "code",
   "execution_count": 4,
   "id": "c643f3b7",
   "metadata": {},
   "outputs": [],
   "source": [
    "for clients_i in range(1, clients_n + 1):\n",
    "    dataset_path = f'client/anti_fraud_dataset/client_{clients_i}/client_anti_fraud_dataset.csv'\n",
    "    \n",
    "    train_set, test_set = get_train_test_datasets(dataset_path)\n",
    "\n",
    "    train_dataloader = torch.utils.data.DataLoader(train_set, batch_size=batch_size, shuffle=True)\n",
    "    test_dataloader = torch.utils.data.DataLoader(test_set, batch_size=batch_size)\n",
    "    \n",
    "    model = Net(n_features=train_set[0]['transaction'].shape[0])\n",
    "    init_parameters[f'client_{clients_i}'] = model.get_weights()\n",
    "    optimizer = AdamW(params=model.parameters(), lr=0.0001)\n",
    "    loss_fn = torch.nn.BCELoss()\n",
    "    \n",
    "    test_roc_auc_score = 0\n",
    "    \n",
    "    for epoch in range(epochs):\n",
    "        train_epoch_loss = 0.0\n",
    "        model.train()\n",
    "    \n",
    "        for i, data in enumerate(train_dataloader):\n",
    "            transactions, labels = data['transaction'], data['label']\n",
    "            transactions = transactions.reshape(transactions.shape[0], 1, transactions.shape[1])\n",
    "        \n",
    "            optimizer.zero_grad()\n",
    "        \n",
    "            output = model(transactions)\n",
    "        \n",
    "            loss = loss_fn(output, labels)\n",
    "            loss.backward()\n",
    "            optimizer.step()\n",
    "        \n",
    "            train_epoch_loss += loss.item()\n",
    "    \n",
    "        train_epoch_loss /= len(train_dataloader)\n",
    "    \n",
    "        test_epoch_loss = 0.0\n",
    "        model.eval()\n",
    "    \n",
    "        outputs = np.array([])\n",
    "        labels = np.array([])\n",
    "    \n",
    "        for i, data in enumerate(test_dataloader):\n",
    "            transactions, label = data['transaction'], data['label']\n",
    "            transactions = transactions.reshape(transactions.shape[0], 1, transactions.shape[1])\n",
    "            output = model(transactions)\n",
    "        \n",
    "            loss = loss_fn(output, label)\n",
    "        \n",
    "            test_epoch_loss += loss.item()\n",
    "            outputs = np.hstack([outputs, output.detach().numpy().reshape(-1)])\n",
    "            labels = np.hstack([labels, label.reshape(-1)])\n",
    "    \n",
    "        test_epoch_loss /= len(test_dataloader)\n",
    "        test_roc_auc_score = roc_auc_score(labels, outputs)\n",
    "    \n",
    "    single_train_roc_auc_scores = np.append(single_train_roc_auc_scores, test_roc_auc_score)"
   ]
  },
  {
   "cell_type": "code",
   "execution_count": 5,
   "id": "f375c448",
   "metadata": {},
   "outputs": [
    {
     "name": "stdout",
     "output_type": "stream",
     "text": [
      "Client 1 AUC = 0.95625\n",
      "Client 2 AUC = 0.980625\n",
      "Client 3 AUC = 0.9911448450347882\n"
     ]
    }
   ],
   "source": [
    "for score_i in range(len(single_train_roc_auc_scores)):\n",
    "    print(f\"Client {score_i + 1} AUC = {single_train_roc_auc_scores[score_i]}\")"
   ]
  },
  {
   "cell_type": "code",
   "execution_count": 6,
   "id": "24c46293",
   "metadata": {},
   "outputs": [
    {
     "name": "stdout",
     "output_type": "stream",
     "text": [
      "Среднее значение ROC AUC при раздельном обучении - 0.9760066150115961\n"
     ]
    }
   ],
   "source": [
    "print(f\"Среднее значение ROC AUC при раздельном обучении - {np.mean(single_train_roc_auc_scores)}\")"
   ]
  },
  {
   "cell_type": "markdown",
   "id": "c5adc3da",
   "metadata": {},
   "source": [
    "# Пример федеративного обучения"
   ]
  },
  {
   "cell_type": "code",
   "execution_count": 7,
   "id": "5f7f5a8d",
   "metadata": {},
   "outputs": [],
   "source": [
    "import os\n",
    "import shutil\n",
    "\n",
    "from federated_learning.core.client.client_manager import ClientManager\n",
    "from federated_learning.core.server.server import Server\n",
    "from federated_learning.core.utils.typing import Config\n",
    "from federated_learning.examples.anti_fraud_fl.client.client import create_client\n",
    "\n",
    "from federated_learning.strategy.fed_avg import FedAvgStrategy"
   ]
  },
  {
   "cell_type": "code",
   "execution_count": 8,
   "id": "498ce113",
   "metadata": {},
   "outputs": [],
   "source": [
    "COMMUNICATION_ROUNDS = 15"
   ]
  },
  {
   "cell_type": "code",
   "execution_count": 9,
   "id": "8ef4f6a2",
   "metadata": {},
   "outputs": [],
   "source": [
    "def on_fit_config_fn(server_round) -> Config:\n",
    "    config = {\n",
    "        'batch_size': 16\n",
    "    }\n",
    "    return config\n",
    "\n",
    "\n",
    "def on_evaluate_config_fn(server_round) -> Config:\n",
    "    config = {\n",
    "        'batch_size': 16\n",
    "    }\n",
    "    return config"
   ]
  },
  {
   "cell_type": "code",
   "execution_count": 10,
   "id": "c080a964",
   "metadata": {},
   "outputs": [],
   "source": [
    "client_manager = ClientManager()\n",
    "weights_path = \"weights\"\n",
    "if os.path.exists(weights_path):\n",
    "    shutil.rmtree(weights_path, ignore_errors=True)\n",
    "os.mkdir(weights_path)\n",
    "for client_i in range(1, clients_n + 1):\n",
    "    \n",
    "    client_folder_path = weights_path + f\"/client_{client_i}\"\n",
    "    os.mkdir(client_folder_path)\n",
    "    os.mkdir(client_folder_path + f\"/global_weights\")\n",
    "    os.mkdir(client_folder_path + f\"/local_weights\")\n",
    "    client = create_client(id=f'client_{client_i}', dataset_path=f\"client/anti_fraud_dataset/client_{client_i}/client_anti_fraud_dataset.csv\", global_weights_save_folder_path=client_folder_path + f\"/global_weights\", local_weights_save_folder_path=client_folder_path + f\"/local_weights\", init_weights=init_parameters[f'client_{client_i}'])\n",
    "    client_manager.add_client(client)"
   ]
  },
  {
   "cell_type": "code",
   "execution_count": 11,
   "id": "b786faba",
   "metadata": {},
   "outputs": [],
   "source": [
    "strategy = FedAvgStrategy(on_fit_config_fn=on_fit_config_fn, on_evaluate_config_fn=on_evaluate_config_fn)"
   ]
  },
  {
   "cell_type": "code",
   "execution_count": 12,
   "id": "58da1495",
   "metadata": {},
   "outputs": [],
   "source": [
    "server = Server(client_manager, strategy)"
   ]
  },
  {
   "cell_type": "code",
   "execution_count": 13,
   "id": "b9b39848",
   "metadata": {},
   "outputs": [],
   "source": [
    "test_results = server.fit(COMMUNICATION_ROUNDS)"
   ]
  },
  {
   "cell_type": "code",
   "execution_count": 14,
   "id": "7ce567a1",
   "metadata": {},
   "outputs": [],
   "source": [
    "federated_train_roc_auc_scores = np.array([])"
   ]
  },
  {
   "cell_type": "code",
   "execution_count": 15,
   "id": "6352140d",
   "metadata": {},
   "outputs": [],
   "source": [
    "test_results.sort(key=lambda x: x[0].id)"
   ]
  },
  {
   "cell_type": "code",
   "execution_count": 16,
   "id": "3679fd23",
   "metadata": {},
   "outputs": [
    {
     "name": "stdout",
     "output_type": "stream",
     "text": [
      "Client client_1 AUC = 0.9854103343465046\n",
      "Client client_2 AUC = 0.9878787878787879\n",
      "Client client_3 AUC = 0.9958258795468098\n"
     ]
    }
   ],
   "source": [
    " for client_results in test_results:\n",
    "    client_id = client_results[0].id\n",
    "    client_result = client_results[1]\n",
    "    federated_train_roc_auc_scores = np.append(federated_train_roc_auc_scores, client_result.metrics['test_roc_auc_score'])\n",
    "    print(f\"Client {client_id} AUC = {client_result.metrics['test_roc_auc_score']}\")"
   ]
  },
  {
   "cell_type": "code",
   "execution_count": 17,
   "id": "4a29df60",
   "metadata": {},
   "outputs": [
    {
     "name": "stdout",
     "output_type": "stream",
     "text": [
      "Среднее значение ROC AUC при федеративном обучении - 0.9897050005907007\n"
     ]
    }
   ],
   "source": [
    "print(f\"Среднее значение ROC AUC при федеративном обучении - {np.mean(federated_train_roc_auc_scores)}\")"
   ]
  }
 ],
 "metadata": {
  "kernelspec": {
   "display_name": "Python [conda env:federated_learning]",
   "language": "python",
   "name": "conda-env-federated_learning-py"
  },
  "language_info": {
   "codemirror_mode": {
    "name": "ipython",
    "version": 3
   },
   "file_extension": ".py",
   "mimetype": "text/x-python",
   "name": "python",
   "nbconvert_exporter": "python",
   "pygments_lexer": "ipython3",
   "version": "3.10.11"
  }
 },
 "nbformat": 4,
 "nbformat_minor": 5
}
